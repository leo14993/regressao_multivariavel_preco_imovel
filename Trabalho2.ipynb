{
 "cells": [
  {
   "cell_type": "markdown",
   "metadata": {},
   "source": [
    "## 1 - Importando Dependencias"
   ]
  },
  {
   "cell_type": "code",
   "execution_count": 2,
   "metadata": {},
   "outputs": [],
   "source": [
    "import pandas as pd\n",
    "import math\n",
    "from sklearn.preprocessing import LabelBinarizer, MinMaxScaler, StandardScaler, PolynomialFeatures\n",
    "\n",
    "from sklearn.model_selection import train_test_split, cross_val_score\n",
    "from sklearn.preprocessing import OrdinalEncoder  #transformar variaveis categoricas em numero\n",
    "from tqdm import tqdm # verifica o progresso de uma tarefa\n",
    "from statistics import mean\n",
    "from sklearn.metrics import mean_squared_error, r2_score\n",
    "\n",
    "from sklearn.linear_model import LinearRegression, SGDRegressor\n",
    "from sklearn.linear_model import Ridge, Lasso\n",
    "from sklearn.linear_model import LogisticRegression\n",
    "\n",
    "from sklearn.ensemble import RandomForestClassifier\n",
    "from sklearn.naive_bayes import MultinomialNB\n",
    "from sklearn.ensemble import GradientBoostingClassifier\n",
    "\n",
    "from sklearn.neighbors import KNeighborsClassifier\n",
    "\n",
    "# instalar pip install pandas-profilling\n",
    "from pandas_profiling import ProfileReport\n",
    "\n",
    "import numpy as np \n",
    "import pandas as pd\n",
    "import seaborn as sns\n",
    "import matplotlib.pyplot as plt\n"
   ]
  },
  {
   "cell_type": "markdown",
   "metadata": {},
   "source": [
    "## 2 - Extraindo dados do CSV e criando dataframes de treino e de teste"
   ]
  },
  {
   "cell_type": "code",
   "execution_count": 348,
   "metadata": {},
   "outputs": [],
   "source": [
    "#2\n",
    "df = pd.read_csv('conjunto_de_treinamento.csv')\n",
    "\n",
    "df = df.drop([  'Id', \n",
    "                'tipo',\n",
    "                'bairro',\n",
    "                'tipo_vendedor',\n",
    "                'area_extra',\n",
    "                'diferenciais',\n",
    "                'estacionamento',\n",
    "              'churrasqueira',\n",
    "                'piscina',\n",
    "                'playground',\n",
    "                'quadra',\n",
    "                's_festas',\n",
    "                's_jogos',\n",
    "                's_ginastica',\n",
    "                'sauna',\n",
    "                'vista_mar'\n",
    "               ],axis=1)\n",
    "\n",
    "# ord_enc = OrdinalEncoder()\n",
    "# df[\"bairro\"] = ord_enc.fit_transform(df[[\"bairro\"]])\n",
    "# df[\"tipo\"] = ord_enc.fit_transform(df[[\"tipo\"]])\n",
    "# df[\"diferenciais\"] = ord_enc.fit_transform(df[[\"diferenciais\"]])\n",
    "\n",
    "\n",
    "df_teste_kaggle = pd.read_csv('conjunto_de_teste.csv')\n",
    "\n",
    "df_teste_kaggle = df_teste_kaggle.drop([\n",
    "                'tipo',\n",
    "                'bairro',\n",
    "                'tipo_vendedor',\n",
    "                'area_extra',\n",
    "                'diferenciais',\n",
    "                'estacionamento',\n",
    "                'churrasqueira',\n",
    "                'piscina',\n",
    "                'playground',\n",
    "                'quadra',\n",
    "                's_festas',\n",
    "                's_jogos',\n",
    "                's_ginastica',\n",
    "                'sauna',\n",
    "                'vista_mar'\n",
    "               ],axis=1)\n",
    "\n",
    "# df_teste_kaggle[\"bairro\"] = ord_enc.fit_transform(df_teste_kaggle[[\"bairro\"]])\n",
    "# df_teste_kaggle[\"tipo\"] = ord_enc.fit_transform(df_teste_kaggle[[\"tipo\"]])\n",
    "# df_teste_kaggle[\"diferenciais\"] = ord_enc.fit_transform(df_teste_kaggle[[\"diferenciais\"]])\n"
   ]
  },
  {
   "cell_type": "code",
   "execution_count": 393,
   "metadata": {},
   "outputs": [
    {
     "name": "stdout",
     "output_type": "stream",
     "text": [
      "tempo: 2021-06-03 23:28:13.652517\n"
     ]
    }
   ],
   "source": [
    "from datetime import datetime\n",
    "print(f'tempo: {datetime.now()}')"
   ]
  },
  {
   "cell_type": "markdown",
   "metadata": {},
   "source": [
    "Criando html com analise exploratoria dos dados"
   ]
  },
  {
   "cell_type": "code",
   "execution_count": null,
   "metadata": {},
   "outputs": [],
   "source": [
    "prof = ProfileReport(df)\n",
    "# prof.to_file(output_file='output.html')"
   ]
  },
  {
   "cell_type": "markdown",
   "metadata": {},
   "source": [
    "## 3-  Dividindo conjunto de treino e teste e normalizando os dados"
   ]
  },
  {
   "cell_type": "code",
   "execution_count": 350,
   "metadata": {},
   "outputs": [],
   "source": [
    "#------------------------------------------------------------------------------\n",
    "# Transferir valores dos atributos e rótulos para arrays X e Y\n",
    "#------------------------------------------------------------------------------\n",
    "\n",
    "caracteristicas_imovel = df.iloc[:,:-1].to_numpy()\n",
    "preco = df.iloc[:,-1].to_numpy()\n",
    "\n",
    "caracteristicas_imovel_kaggle = df_teste_kaggle.iloc[:,1:].to_numpy()\n",
    "\n",
    "\n",
    "#------------------------------------------------------------------------------\n",
    "# Particionar X e Y em conjunto de treinamento e conjunto de teste\n",
    "#------------------------------------------------------------------------------\n",
    "\n",
    "x_treino, x_teste, y_treino, y_teste = train_test_split(\n",
    "    caracteristicas_imovel,\n",
    "    preco,\n",
    "    test_size = 0.1,\n",
    "    random_state = 99   \n",
    "    )\n",
    "\n",
    "#------------------------------------------------------------------------------\n",
    "# Ajustar a escala dos atributos\n",
    "#------------------------------------------------------------------------------\n",
    "\n",
    "std = StandardScaler()\n",
    "\n",
    "std_caracteristicas_imovel = std.fit(x_treino)\n",
    "\n",
    "# Normalizando os valores das caracteristicas\n",
    "caracteristicas_imovel = std_caracteristicas_imovel.transform(x_treino)\n",
    "caracteristicas_imovel_teste = std_caracteristicas_imovel.transform(x_teste)\n",
    "caracteristicas_imovel_kaggle  = std_caracteristicas_imovel.transform(caracteristicas_imovel_kaggle)\n",
    "\n",
    "\n",
    "# # Normalizando os precos de treino e teste\n",
    "\n",
    "std_preco = std.fit(y_treino.reshape(-1, 1))\n",
    "\n",
    "preco = std_preco.transform(y_treino.reshape(-1, 1))\n",
    "preco_teste = std_preco.transform(y_teste.reshape(-1, 1))"
   ]
  },
  {
   "cell_type": "markdown",
   "metadata": {},
   "source": [
    "## 4-  Verificando Outliers"
   ]
  },
  {
   "cell_type": "code",
   "execution_count": 339,
   "metadata": {},
   "outputs": [
    {
     "data": {
      "text/plain": [
       "<matplotlib.axes._subplots.AxesSubplot at 0x13900043460>"
      ]
     },
     "execution_count": 339,
     "metadata": {},
     "output_type": "execute_result"
    },
    {
     "data": {
      "image/png": "[encoded data removed]",
      "text/plain": [
       "<Figure size 432x288 with 1 Axes>"
      ]
     },
     "metadata": {
      "needs_background": "light"
     },
     "output_type": "display_data"
    }
   ],
   "source": [
    "sns.boxplot(preco)"
   ]
  },
  {
   "cell_type": "markdown",
   "metadata": {},
   "source": [
    "## 5 - Removendo Outliers\n",
    "\n",
    "Removendo valores maiores que 2x o desvio padrao"
   ]
  },
  {
   "cell_type": "code",
   "execution_count": 397,
   "metadata": {},
   "outputs": [
    {
     "data": {
      "text/plain": [
       "<matplotlib.axes._subplots.AxesSubplot at 0x1390086c790>"
      ]
     },
     "execution_count": 397,
     "metadata": {},
     "output_type": "execute_result"
    },
    {
     "data": {
      "image/png": "[encoded data removed]",
      "text/plain": [
       "<Figure size 432x288 with 1 Axes>"
      ]
     },
     "metadata": {
      "needs_background": "light"
     },
     "output_type": "display_data"
    }
   ],
   "source": [
    "mean = np.mean(preco)\n",
    "standard_deviation = np.std(preco)\n",
    "distance_from_mean = abs(preco - mean)\n",
    "max_deviations = 0.05\n",
    "not_outlier = distance_from_mean < max_deviations * standard_deviation\n",
    "no_outliers = preco[not_outlier]\n",
    "\n",
    "index_no_outlier = np.where(not_outlier == False)[0]\n",
    "\n",
    "\n",
    "sns.boxplot(no_outliers)"
   ]
  },
  {
   "cell_type": "code",
   "execution_count": 352,
   "metadata": {},
   "outputs": [
    {
     "name": "stdout",
     "output_type": "stream",
     "text": [
      "caracteristicas com outliers:  4214  precos com outliers: 4214\n",
      "Precos outliers normalizados\n",
      "[[56.81563814]\n",
      " [ 5.7850293 ]\n",
      " [30.62293626]]\n",
      "Precos outliers reais\n",
      "[[6.3e+08]\n",
      " [6.5e+07]\n",
      " [3.4e+08]]\n",
      "caracteristicas sem outliers:  4211  precos sem outliers: 4211\n"
     ]
    }
   ],
   "source": [
    "# Remover as linhas dos indices de outliers\n",
    "\n",
    "print( 'caracteristicas com outliers: ',len(caracteristicas_imovel), ' precos com outliers:' ,len(preco))\n",
    "\n",
    "print(\"Precos outliers normalizados\")\n",
    "print(preco[index_no_outlier])\n",
    "print(\"Precos outliers reais\")\n",
    "print(std_preco.inverse_transform(preco[index_no_outlier]))\n",
    "\n",
    "caracteristicas_imovel = np.delete(caracteristicas_imovel, index_no_outlier, axis=0)\n",
    "\n",
    "preco = preco[not_outlier]\n",
    "\n",
    "print( 'caracteristicas sem outliers: ',len(caracteristicas_imovel), ' precos sem outliers:' ,len(preco))\n",
    "\n"
   ]
  },
  {
   "cell_type": "markdown",
   "metadata": {},
   "source": [
    "## 6 - Parametrizando os dados \n",
    "\n",
    "Após alguns testes foi definido que o grau 2 foi o melhor ajuste polinomial"
   ]
  },
  {
   "cell_type": "code",
   "execution_count": 390,
   "metadata": {},
   "outputs": [],
   "source": [
    "# instanciar e ajsutar um objeto PolynomialFeatures\n",
    "pf = PolynomialFeatures(degree=2) \n",
    "pf = pf.fit(caracteristicas_imovel)\n",
    "\n",
    "# transforma a matriz de caracteristicas incluindo atributos polinomiais\n",
    "caracteristicas_imovel_poly = pf.transform(caracteristicas_imovel)\n",
    "caracteristicas_imovel_teste_poly = pf.transform(caracteristicas_imovel_teste)\n",
    "caracteristicas_imovel_kaggle_poly = pf.transform(caracteristicas_imovel_kaggle)\n"
   ]
  },
  {
   "cell_type": "markdown",
   "metadata": {},
   "source": [
    "# Aplicando Lasso"
   ]
  },
  {
   "cell_type": "code",
   "execution_count": 391,
   "metadata": {},
   "outputs": [
    {
     "name": "stdout",
     "output_type": "stream",
     "text": [
      " NA        RMSE_IN       R^2 IN       RMSE_OUT       R^2 OUT    RMSPE\n",
      "  15        0.0549        0.0000        0.0585       -0.0019      41.5987\n"
     ]
    }
   ],
   "source": [
    "regressor_lasso = Lasso(alpha=2000,\n",
    "                        max_iter=10000\n",
    "                       )\n",
    "\n",
    "\n",
    "regressor_lasso = regressor_lasso.fit(caracteristicas_imovel_poly,preco)\n",
    "\n",
    "lasso_preco_resposta = regressor_lasso.predict(caracteristicas_imovel_poly)\n",
    "lasso_preco_resposta_teste  = regressor_lasso.predict(caracteristicas_imovel_teste_poly)\n",
    "lasso_preco_resposta_kaggle = regressor_lasso.predict(caracteristicas_imovel_kaggle_poly)\n",
    "\n",
    "rmspe = np.sqrt(\n",
    "                np.mean(\n",
    "                    np.square(((preco - lasso_preco_resposta) / preco)),\n",
    "                    axis=0\n",
    "                )\n",
    "            )\n",
    "\n",
    "mse_in  = mean_squared_error(preco,lasso_preco_resposta)\n",
    "rmse_in = math.sqrt(mse_in)\n",
    "r2_in   = r2_score(preco,lasso_preco_resposta)\n",
    "\n",
    "mse_out  = mean_squared_error(preco_teste,lasso_preco_resposta_teste)\n",
    "rmse_out = math.sqrt(mse_out)\n",
    "r2_out   = r2_score(preco_teste,lasso_preco_resposta_teste)\n",
    "\n",
    "na = caracteristicas_imovel_poly.shape[1]\n",
    "\n",
    "\n",
    "print(' NA        RMSE_IN       R^2 IN       RMSE_OUT       R^2 OUT    RMSPE')\n",
    "print('%4d  %12.4f  %12.4f  %12.4f  %12.4f %12.4f' % ( na , rmse_in , r2_in, rmse_out,  r2_out, rmspe))"
   ]
  },
  {
   "cell_type": "markdown",
   "metadata": {},
   "source": [
    "Testando o grau polinomial ideal"
   ]
  },
  {
   "cell_type": "code",
   "execution_count": 356,
   "metadata": {},
   "outputs": [
    {
     "name": "stdout",
     "output_type": "stream",
     "text": [
      " NA        RMSE_IN       R^2 IN       RMSE_OUT       R^2 OUT    RMSPE\n",
      " 715        0.0340        0.6162        0.0449        0.4094      65.4407\n",
      " 715        0.0303        0.6953        0.0401        0.5299      64.1095\n",
      " 715        0.0279        0.7419        0.0394        0.5447      55.3935\n",
      " 715        0.0267        0.7638        0.0587       -0.0073      54.6517\n",
      " 715        0.0251        0.7906        7.9844   -18651.3090      50.2808\n",
      " 715        0.0238        0.8117      154.4254  -6977232.6551      49.4016\n",
      " 715        0.0228        0.8281     5206.6453  -7931620556.7597      47.7877\n",
      " 715        0.0216        0.8450  12717465.6005  -47320256528928072.0000      46.8014\n",
      " 715        0.0213        0.8490  1047745890.0500  -321186940873594175488.0000      47.3706\n",
      " 715        0.0232        0.8208  485671210.0081  -69012961881559113728.0000      50.8803\n",
      " 715        0.0217        0.8439  37269668.6178  -406403097783818496.0000      51.7015\n"
     ]
    }
   ],
   "source": [
    "# print('k  NA        RMSE_IN       R^2 IN       RMSE_OUT       R^2 OUT')\n",
    "print(' NA        RMSE_IN       R^2 IN       RMSE_OUT       R^2 OUT    RMSPE')\n",
    "\n",
    "for k in range(1,12):\n",
    "        # instanciar e ajsutar um objeto PolynomialFeatures\n",
    "    pf = PolynomialFeatures(degree=k) \n",
    "    pf = pf.fit(caracteristicas_imovel)\n",
    "\n",
    "    # transforma a matriz de caracteristicas incluindo atributos polinomiais\n",
    "    caracteristicas_imovel_poly = pf.transform(caracteristicas_imovel)\n",
    "    caracteristicas_imovel_teste_poly = pf.transform(caracteristicas_imovel_teste)\n",
    "    caracteristicas_imovel_kaggle_poly = pf.transform(caracteristicas_imovel_kaggle)\n",
    "\n",
    "    regressor_linear = LinearRegression()\n",
    "\n",
    "    regressor_linear = regressor_linear.fit(caracteristicas_imovel_poly,preco)\n",
    "\n",
    "    linear_preco_resposta = regressor_linear.predict(caracteristicas_imovel_poly)\n",
    "    linear_preco_resposta_teste  = regressor_linear.predict(caracteristicas_imovel_teste_poly)\n",
    "    linear_preco_resposta_kaggle = regressor_linear.predict(caracteristicas_imovel_kaggle_poly)\n",
    "    \n",
    "    rmspe = np.sqrt(\n",
    "                np.mean(\n",
    "                    np.square(((preco - linear_preco_resposta) / preco)),\n",
    "                    axis=0\n",
    "                )\n",
    "            )\n",
    "\n",
    "    mse_in  = mean_squared_error(preco,linear_preco_resposta)\n",
    "    rmse_in = math.sqrt(mse_in)\n",
    "    r2_in   = r2_score(preco,linear_preco_resposta)\n",
    "\n",
    "    mse_out  = mean_squared_error(preco_teste,linear_preco_resposta_teste)\n",
    "    rmse_out = math.sqrt(mse_out)\n",
    "    r2_out   = r2_score(preco_teste,linear_preco_resposta_teste)\n",
    "\n",
    "    na = x_treino_poly.shape[1]\n",
    "\n",
    "\n",
    "\n",
    "#     print('%2d %4d  %12.4f  %12.4f  %12.4f  %12.4f' % ( k, na , rmse_in , r2_in, rmse_out,  r2_out) )\n",
    "#     print(' NA        RMSE_IN       R^2 IN       RMSE_OUT       R^2 OUT    RMSPE')\n",
    "    print('%4d  %12.4f  %12.4f  %12.4f  %12.4f %12.4f' % ( na , rmse_in , r2_in, rmse_out,  r2_out, rmspe))"
   ]
  },
  {
   "cell_type": "markdown",
   "metadata": {},
   "source": [
    "Melhor grau polinomial k=2\n",
    "Definindo modelo para o teste final"
   ]
  },
  {
   "cell_type": "markdown",
   "metadata": {},
   "source": [
    "## 7-  Aplicando Linear Regression"
   ]
  },
  {
   "cell_type": "code",
   "execution_count": 382,
   "metadata": {},
   "outputs": [
    {
     "name": "stdout",
     "output_type": "stream",
     "text": [
      " NA        RMSE_IN       R^2 IN       RMSE_OUT       R^2 OUT    RMSPE\n",
      " 715        0.0303        0.6953        0.0401        0.5299      64.1095\n"
     ]
    }
   ],
   "source": [
    "regressor_linear = LinearRegression(normalize=True)\n",
    "\n",
    "regressor_linear = regressor_linear.fit(caracteristicas_imovel_poly,preco)\n",
    "\n",
    "linear_preco_resposta = regressor_linear.predict(caracteristicas_imovel_poly)\n",
    "linear_preco_resposta_teste  = regressor_linear.predict(caracteristicas_imovel_teste_poly)\n",
    "linear_preco_resposta_kaggle = regressor_linear.predict(caracteristicas_imovel_kaggle_poly)\n",
    "\n",
    "\n",
    "rmspe = np.sqrt(\n",
    "                np.mean(\n",
    "                    np.square(((preco - linear_preco_resposta) / preco)),\n",
    "                    axis=0\n",
    "                )\n",
    "            )\n",
    "\n",
    "mse_in  = mean_squared_error(preco,linear_preco_resposta)\n",
    "rmse_in = math.sqrt(mse_in)\n",
    "r2_in   = r2_score(preco,linear_preco_resposta)\n",
    "\n",
    "mse_out  = mean_squared_error(preco_teste,linear_preco_resposta_teste)\n",
    "rmse_out = math.sqrt(mse_out)\n",
    "r2_out   = r2_score(preco_teste,linear_preco_resposta_teste)\n",
    "\n",
    "na = x_treino_poly.shape[1]\n",
    "\n",
    "\n",
    "print(' NA        RMSE_IN       R^2 IN       RMSE_OUT       R^2 OUT    RMSPE')\n",
    "print('%4d  %12.4f  %12.4f  %12.4f  %12.4f %12.4f' % ( na , rmse_in , r2_in, rmse_out,  r2_out, rmspe))"
   ]
  },
  {
   "cell_type": "markdown",
   "metadata": {},
   "source": [
    "## Aplicando Ridge"
   ]
  },
  {
   "cell_type": "code",
   "execution_count": 380,
   "metadata": {},
   "outputs": [
    {
     "name": "stdout",
     "output_type": "stream",
     "text": [
      " NA        RMSE_IN       R^2 IN       RMSE_OUT       R^2 OUT    RMSPE\n",
      " 715        0.0548        0.0036        0.0584        0.0011      41.5472\n"
     ]
    }
   ],
   "source": [
    "\n",
    "regressor_ridge = Ridge(alpha=20000000)\n",
    "\n",
    "regressor_ridge = regressor_ridge.fit(caracteristicas_imovel_poly,preco)\n",
    "\n",
    "linear_preco_resposta = regressor_ridge.predict(caracteristicas_imovel_poly)\n",
    "linear_preco_resposta_teste  = regressor_ridge.predict(caracteristicas_imovel_teste_poly)\n",
    "linear_preco_resposta_kaggle = regressor_ridge.predict(caracteristicas_imovel_kaggle_poly)\n",
    "\n",
    "\n",
    "rmspe = np.sqrt(\n",
    "                np.mean(\n",
    "                    np.square(((preco - linear_preco_resposta) / preco)),\n",
    "                    axis=0\n",
    "                )\n",
    "            )\n",
    "\n",
    "mse_in  = mean_squared_error(preco,linear_preco_resposta)\n",
    "rmse_in = math.sqrt(mse_in)\n",
    "r2_in   = r2_score(preco,linear_preco_resposta)\n",
    "\n",
    "mse_out  = mean_squared_error(preco_teste,linear_preco_resposta_teste)\n",
    "rmse_out = math.sqrt(mse_out)\n",
    "r2_out   = r2_score(preco_teste,linear_preco_resposta_teste)\n",
    "\n",
    "na = x_treino_poly.shape[1]\n",
    "\n",
    "\n",
    "print(' NA        RMSE_IN       R^2 IN       RMSE_OUT       R^2 OUT    RMSPE')\n",
    "print('%4d  %12.4f  %12.4f  %12.4f  %12.4f %12.4f' % ( na , rmse_in , r2_in, rmse_out,  r2_out, rmspe))"
   ]
  },
  {
   "cell_type": "code",
   "execution_count": 289,
   "metadata": {},
   "outputs": [
    {
     "name": "stdout",
     "output_type": "stream",
     "text": [
      "4211\n"
     ]
    }
   ],
   "source": [
    "print(len(linear_preco_resposta))\n",
    "\n",
    " NA        RMSE_IN       R^2 IN       RMSE_OUT       R^2 OUT\n",
    " 715        0.0289        0.7235        0.0405        0.5202"
   ]
  },
  {
   "cell_type": "code",
   "execution_count": 360,
   "metadata": {},
   "outputs": [
    {
     "data": {
      "image/png": "[encoded data removed]",
      "text/plain": [
       "<Figure size 720x720 with 1 Axes>"
      ]
     },
     "metadata": {
      "needs_background": "light"
     },
     "output_type": "display_data"
    }
   ],
   "source": [
    "ids = np.linspace(1,len(preco),num=len(preco)).reshape(-1,1)\n",
    "\n",
    "plt.figure(figsize=(10,10))\n",
    "\n",
    "plt.title(\"AMOSTRAS DISPONÍVEIS\")\n",
    "plt.xlabel(\"id\")\n",
    "plt.ylabel(\"preco\")\n",
    "\n",
    "# plotar função-alvo subjacente (desconhecida do modelo a ser treinado)\n",
    "\n",
    "plt.plot(\n",
    "    ids,\n",
    "    linear_preco_resposta,\n",
    "    color     = 'black'\n",
    "    )\n",
    "\n",
    "# # plotar amostras de treinamento\n",
    "\n",
    "plt.plot(\n",
    "    ids,\n",
    "    preco,\n",
    "    color     = 'green'\n",
    "    )\n",
    "\n",
    "plt.show()"
   ]
  },
  {
   "cell_type": "code",
   "execution_count": 361,
   "metadata": {},
   "outputs": [
    {
     "data": {
      "image/png": "[encoded data removed]",
      "text/plain": [
       "<Figure size 720x720 with 1 Axes>"
      ]
     },
     "metadata": {
      "needs_background": "light"
     },
     "output_type": "display_data"
    }
   ],
   "source": [
    "ids = np.linspace(1,len(preco),num=len(preco)).reshape(-1,1)\n",
    "\n",
    "plt.figure(figsize=(10,10))\n",
    "\n",
    "plt.title(\"AMOSTRAS DISPONÍVEIS\")\n",
    "plt.xlabel(\"id\")\n",
    "plt.ylabel(\"preco\")\n",
    "\n",
    "# plotar função-alvo subjacente (desconhecida do modelo a ser treinado)\n",
    "\n",
    "plt.plot(\n",
    "    ids,\n",
    "    linear_preco_resposta,\n",
    "    color     = 'black',\n",
    "    label     = 'função-alvo (desconhecida)'\n",
    "    )\n",
    "\n",
    "# # plotar amostras de treinamento\n",
    "\n",
    "plt.plot(\n",
    "    ids,\n",
    "    preco,\n",
    "    color     = 'green',\n",
    "    label     = 'amostras de treinamento'\n",
    "    )\n",
    "\n",
    "# # plotar amostras de teste\n",
    "\n",
    "# plt.scatter(\n",
    "#     x_teste,\n",
    "#     y_teste,\n",
    "#     color     = 'red',\n",
    "#     marker    = 'o',\n",
    "#     s         = 30,\n",
    "#     alpha     = 0.5,\n",
    "#     label     = 'amostras de teste'\n",
    "#     )\n",
    "\n",
    "plt.show()"
   ]
  },
  {
   "cell_type": "markdown",
   "metadata": {},
   "source": [
    "Sem tipo_vendedor\n",
    "\n",
    "  K    NA  DENTRO da amostra    R2 dentro       FORA da amostra      R2 fora\n",
    " ---  ---  -----------------  ---------------   ---------------      ---------------\n",
    "   1   715             0.9990           0.0021           0.0523           0.2000\n",
    "   2   715             0.9976           0.0047           0.0960          -1.6990\n",
    "   \n",
    "   \n",
    "Com tipo_vendeor\n",
    "\n",
    "  K    NA  DENTRO da amostra    R2 dentro       FORA da amostra      R2 fora\n",
    " ---  ---  -----------------  ---------------   ---------------      ---------------\n",
    "   1   715             0.9906           0.0188           0.1078          -2.3985\n",
    "   2   715             0.9751           0.0492           0.2261         -13.9545"
   ]
  },
  {
   "cell_type": "markdown",
   "metadata": {},
   "source": [
    "Organizando predicao e convertendo pra CSV"
   ]
  },
  {
   "cell_type": "code",
   "execution_count": 381,
   "metadata": {},
   "outputs": [
    {
     "name": "stdout",
     "output_type": "stream",
     "text": [
      "[[1653950.52727523  434826.90714499  747238.36034372 ...  706200.1822118\n",
      "  1376818.57458842  954128.23591202]]\n"
     ]
    }
   ],
   "source": [
    "# preco_teste = std_preco.transform(y_teste.shape(-1, 1))\n",
    "\n",
    "preco2 = std_preco.inverse_transform(preco_resposta_kaggle).reshape(1, -1)\n",
    "\n",
    "print(preco2)"
   ]
  },
  {
   "cell_type": "code",
   "execution_count": 383,
   "metadata": {},
   "outputs": [
    {
     "name": "stdout",
     "output_type": "stream",
     "text": [
      "[[1653950.52727523  434826.90714499  747238.36034372 ...  706200.1822118\n",
      "  1376818.57458842  954128.23591202]]\n"
     ]
    }
   ],
   "source": [
    "# preco_teste = std_preco.transform(y_teste.shape(-1, 1))\n",
    "\n",
    "preco2 = std_preco.inverse_transform(preco_resposta_kaggle).reshape(1, -1)\n",
    "\n",
    "print(preco2)"
   ]
  },
  {
   "cell_type": "code",
   "execution_count": 363,
   "metadata": {},
   "outputs": [],
   "source": [
    "dict_resultado = {'Id': df_teste_kaggle['Id'], 'preco': preco2.tolist()[0]}\n",
    "df_resultado = pd.DataFrame(data=dict_resultado)\n",
    "df_resultado.to_csv (r'regressao_ridge_preco_sem_outliers_grau2.csv', index = False, header=True)"
   ]
  },
  {
   "cell_type": "code",
   "execution_count": null,
   "metadata": {},
   "outputs": [],
   "source": []
  },
  {
   "cell_type": "code",
   "execution_count": null,
   "metadata": {},
   "outputs": [],
   "source": [
    "print(' ')\n",
    "print(' REGRESSOR POLINOMIAL DE GRAU K COM REGULARIZACAO RIDGE (L2):')\n",
    "print(' ')\n",
    "\n",
    "print('  K    NA  DENTRO da amostra  FORA da amostra')\n",
    "print(' ---  ---  -----------------  ---------------')\n",
    "\n",
    "for k in range(1,3):\n",
    "    \n",
    "    pf = PolynomialFeatures(degree=k)\n",
    "    \n",
    "    pf = pf.fit(x_treino)\n",
    "    x_treino_poly = pf.transform(x_treino)\n",
    "    x_teste_poly = pf.transform(x_teste)\n",
    "    \n",
    "    regressor_ridge = Ridge(alpha=50.0)\n",
    "    \n",
    "    regressor_ridge = regressor_ridge.fit(x_treino_poly,y_treino)\n",
    "    \n",
    "    y_resposta_treino = regressor_ridge.predict(x_treino_poly)\n",
    "    y_resposta_teste  = regressor_ridge.predict(x_teste_poly)\n",
    "\n",
    "    mse_in  = mean_squared_error(y_treino,y_resposta_treino)\n",
    "    rmse_in = math.sqrt(mse_in)\n",
    "    r2_in   = r2_score(y_treino,y_resposta_treino)\n",
    "\n",
    "    mse_out  = mean_squared_error(y_teste,y_resposta_teste)\n",
    "    rmse_out = math.sqrt(mse_out)\n",
    "    r2_out   = r2_score(y_teste,y_resposta_teste)\n",
    "    \n",
    "    na = x_treino_poly.shape[1]\n",
    "    \n",
    "#     print(type(y_teste))\n",
    "#     import numpy as np\n",
    "#     import matplotlib.pyplot as plt\n",
    "\n",
    "#     X = np.linspace(0, 2 * np.pi, 100)\n",
    "#     Ya = np.sin(X)\n",
    "#     Yb = np.cos(X)\n",
    "#     print(np.arange(1,len(x_treino_poly)) )\n",
    "#     x_plot=np.arange(1,470)\n",
    "# #     print(len(x_plot))\n",
    "# #     print(len(y_teste))\n",
    "# #     plt.plot(x_plot, y_teste)\n",
    "#     print(\"y resposta\")\n",
    "#     plt.plot(x_plot, y_resposta_teste)\n",
    "#     plt.show()\n",
    "#     print(\"yteste\")\n",
    "#     plt.plot(x_plot, y_teste)\n",
    "#     plt.show()\n",
    "\n",
    "    print(' %3d  %4d  %17.4f  %15.4f %15.4f' % ( k , na , rmse_in , rmse_out,  r2_out) )"
   ]
  },
  {
   "cell_type": "code",
   "execution_count": null,
   "metadata": {},
   "outputs": [],
   "source": [
    "#------------------------------------------------------------------------------\n",
    "# Treinar um regressor linear\n",
    "#------------------------------------------------------------------------------\n",
    "\n",
    "\n",
    "\n",
    "\n",
    "# regressor_linear = KNeighborsClassifier(n_neighbors=5)\n",
    "regressor_linear = LinearRegression(normalize=True)\n",
    "# regressor_linear = RandomForestClassifier()\n",
    "\n",
    "regressor_linear = regressor_linear.fit(x_treino,y_treino)\n",
    "\n",
    "#------------------------------------------------------------------------------\n",
    "# Obter as respostas do regressor linear dentro e fora da amostra\n",
    "#------------------------------------------------------------------------------\n",
    "\n",
    "y_resposta_treino = regressor_linear.predict(x_treino)\n",
    "y_resposta_teste  = regressor_linear.predict(x_teste)\n",
    "\n",
    "#------------------------------------------------------------------------------\n",
    "# Calcular as métricas e comparar os resultados\n",
    "#------------------------------------------------------------------------------\n",
    "\n",
    "print(' ')\n",
    "print(' REGRESSOR LINEAR:')\n",
    "print(' ')\n",
    "\n",
    "print(' Métrica  DENTRO da amostra  FORA da amostra')\n",
    "print(' -------  -----------------  ---------------')\n",
    "\n",
    "\n",
    "plt.plot(x_plot, y_resposta_teste)\n",
    "plt.show()\n",
    "    \n",
    "mse_in  = mean_squared_error(y_treino,y_resposta_treino)\n",
    "rmse_in = math.sqrt(mse_in)\n",
    "r2_in   = r2_score(y_treino,y_resposta_treino)\n",
    "\n",
    "mse_out  = mean_squared_error(y_teste,y_resposta_teste)\n",
    "rmse_out = math.sqrt(mse_out)\n",
    "r2_out   = r2_score(y_teste,y_resposta_teste)\n",
    "\n",
    "print(' %7s  %17.4f  %15.4f' % (  'mse' ,  mse_in ,  mse_out ) )\n",
    "print(' %7s  %17.4f  %15.4f' % ( 'rmse' , rmse_in , rmse_out ) )\n",
    "print(' %7s  %17.4f  %15.4f' % (   'r2' ,   r2_in ,   r2_out ) )\n",
    "\n",
    "# erro=[abs(x-y) for x,y in zip(y_teste,y_resposta_teste)]\n",
    "\n",
    "# print(min(erro))\n",
    "# dict_resultado = {'y_teste': y_teste, 'y_resposta_teste': y_resposta_teste, 'erro': erro}\n",
    "# df_resultado = pd.DataFrame(data=dict_resultado)\n",
    "\n",
    "# print(df_resultado)"
   ]
  },
  {
   "cell_type": "code",
   "execution_count": null,
   "metadata": {},
   "outputs": [],
   "source": [
    "# clf = RandomForestClassifier(\n",
    "#     max_depth=4, \n",
    "# #                              random_state=0, \n",
    "# #                              criterion='entropy', \n",
    "# #                              max_features='log2',\n",
    "#                              min_samples_split=2, \n",
    "#                              min_samples_leaf=1,\n",
    "#                              min_weight_fraction_leaf=0.0)\n",
    "# clf.fit(x_treino, y_treino)\n",
    "\n",
    "q = 10\n",
    "scores = cross_val_score(\n",
    "#         clf,\n",
    "    regressor_linear,\n",
    "        x_treino,\n",
    "        y_treino,\n",
    "        cv=q\n",
    "        )\n",
    "\n",
    "print (\n",
    "#         f'k = {k}',\n",
    "#     f\"numero de estimadore: {k}\",\n",
    "        f'scores:{scores}',\n",
    "        f'acurácia média = {round(100*mean(scores),2)} %' \n",
    "        )"
   ]
  },
  {
   "cell_type": "code",
   "execution_count": null,
   "metadata": {},
   "outputs": [],
   "source": [
    "# testando_modelo = df_teste[atributos_selecionados]\n",
    "\n",
    "\n",
    "\n",
    "x_teste = df_teste.loc[:,df_teste.columns].values\n",
    "print(df.T)\n",
    "print(df_teste.T)\n",
    "# ajustador_de_escala = MinMaxScaler()\n",
    "ajustador_de_escala = StandardScaler()\n",
    "ajustador_de_escala.fit(x_teste)\n",
    "\n",
    "x_teste = ajustador_de_escala.transform(x_teste)\n",
    "\n",
    "\n",
    "regressor_linear.fit(x_treino,y_treino)\n",
    "\n",
    "print(x_teste)\n",
    "\n",
    "resultado = regressor_linear.predict(x_teste)\n",
    "\n",
    "print(len(x_teste))"
   ]
  },
  {
   "cell_type": "code",
   "execution_count": null,
   "metadata": {},
   "outputs": [],
   "source": [
    "regressor_linear.fit(x_treino,y_treino)\n",
    "\n",
    "resultado = regressor_linear.predict(x_teste)\n",
    "\n",
    "dict_resultado = {'Id': df_teste['Id'], 'preco': resultado.tolist()}\n",
    "df_resultado = pd.DataFrame(data=dict_resultado)\n",
    "df_resultado.to_csv (r'previsao_precos.csv', index = False, header=True)"
   ]
  }
 ],
 "metadata": {
  "kernelspec": {
   "display_name": "Python 3",
   "language": "python",
   "name": "python3"
  },
  "language_info": {
   "codemirror_mode": {
    "name": "ipython",
    "version": 3
   },
   "file_extension": ".py",
   "mimetype": "text/x-python",
   "name": "python",
   "nbconvert_exporter": "python",
   "pygments_lexer": "ipython3",
   "version": "3.8.3"
  }
 },
 "nbformat": 4,
 "nbformat_minor": 4
}
